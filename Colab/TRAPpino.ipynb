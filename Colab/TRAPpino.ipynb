{
  "cells": [
    {
      "cell_type": "markdown",
      "metadata": {
        "id": "YtJc6yLB1KGn"
      },
      "source": [
        "**INSTALLATION OF USEFUL LIBRARIES**"
      ]
    },
    {
      "cell_type": "code",
      "execution_count": null,
      "metadata": {
        "colab": {
          "base_uri": "https://localhost:8080/"
        },
        "id": "FJqJgcpTD-GH",
        "outputId": "fdc69a59-fd8e-47cd-93db-600900e91d4b"
      },
      "outputs": [
        {
          "name": "stdout",
          "output_type": "stream",
          "text": [
            "Collecting hexdump\n",
            "  Downloading hexdump-3.3.zip (12 kB)\n",
            "  Preparing metadata (setup.py) ... \u001b[?25l\u001b[?25hdone\n",
            "Building wheels for collected packages: hexdump\n",
            "  Building wheel for hexdump (setup.py) ... \u001b[?25l\u001b[?25hdone\n",
            "  Created wheel for hexdump: filename=hexdump-3.3-py3-none-any.whl size=8894 sha256=ee0956883bfd51749330570db2b3dad1c5e93834caddb0090f7040859f31d275\n",
            "  Stored in directory: /root/.cache/pip/wheels/26/28/f7/f47d7ecd9ae44c4457e72c8bb617ef18ab332ee2b2a1047e87\n",
            "Successfully built hexdump\n",
            "Installing collected packages: hexdump\n",
            "Successfully installed hexdump-3.3\n"
          ]
        }
      ],
      "source": [
        "!pip install hexdump"
      ]
    },
    {
      "cell_type": "markdown",
      "metadata": {
        "id": "IQMPViNn1XEs"
      },
      "source": [
        "**IMPORT OF THE LIBRARIES**"
      ]
    },
    {
      "cell_type": "code",
      "execution_count": null,
      "metadata": {
        "id": "dWeAbDNR2yQ6"
      },
      "outputs": [],
      "source": [
        "import matplotlib.pyplot as plt\n",
        "import numpy as np\n",
        "import PIL\n",
        "from sklearn.utils import class_weight\n",
        "import tensorflow as tf\n",
        "from keras.preprocessing.image import ImageDataGenerator\n",
        "from tensorflow import keras\n",
        "from keras import layers\n",
        "from keras.models import Sequential\n",
        "import math\n",
        "from sklearn.model_selection import train_test_split\n",
        "from sklearn.utils.class_weight import compute_class_weight\n",
        "from sklearn.utils import class_weight\n",
        "from sklearn import metrics\n",
        "from sklearn.metrics import confusion_matrix\n",
        "from sklearn.metrics import classification_report\n",
        "from sklearn.metrics import ConfusionMatrixDisplay\n",
        "from locale import normalize\n",
        "import re\n",
        "import hexdump\n",
        "import os\n",
        "from os import listdir\n",
        "import cv2\n",
        "from ipywidgets import widgets\n",
        "import pathlib"
      ]
    },
    {
      "cell_type": "code",
      "execution_count": null,
      "metadata": {
        "colab": {
          "base_uri": "https://localhost:8080/"
        },
        "id": "LfA33XVEjsl_",
        "outputId": "4e3ab4cc-f0f6-4bdd-9cd7-47bd450f4d26"
      },
      "outputs": [],
      "source": [
        "from google.colab import drive\n",
        "drive.mount('/content/drive')"
      ]
    },
    {
      "cell_type": "markdown",
      "metadata": {
        "id": "UjxR12ZJ1fmG"
      },
      "source": [
        "DATASET AND DATA GENERATION"
      ]
    },
    {
      "cell_type": "code",
      "execution_count": null,
      "metadata": {
        "id": "5XtVuXkjbsZe"
      },
      "outputs": [],
      "source": [
        "#paths to the directories of training and validation set and test set\n",
        "origin = ('/content/drive/MyDrive/datadeep/training')\n",
        "test_directory= ('/content/drive/MyDrive/datadeep/test')\n",
        "\n",
        "#declaration of size of the images and number of epochs for the training step\n",
        "img_height = 64\n",
        "img_width = 64\n",
        "epochs = 25"
      ]
    },
    {
      "cell_type": "code",
      "execution_count": null,
      "metadata": {
        "colab": {
          "base_uri": "https://localhost:8080/",
          "height": 305,
          "referenced_widgets": [
            "a33efee052d540f587a138cac2dde75d",
            "182e5ceec63d4e20b6f68de788301d8c",
            "f4980a101f674b68b7c8cfca03f8f88b",
            "250f57c1d63540e1b8b6cd8714e3df1f",
            "590d494b61774eab946c908af46b070b",
            "28da967a9a4e43fcbcb859f8690a8d36",
            "e491e1940b4c41c182423c629c374280",
            "b4405393de46424b807f36aa4472b81e",
            "aad586f98b524c6da484570ed3d4d455",
            "b2099ef1a34049e994951f404712db87",
            "f1ca1ebe62d941788bd719f3788470b8",
            "b290f4aa0c1449db9d92860b114386fd",
            "04b0ac5a6db5467c90df2db408422696",
            "fb0826c063f94b0396e60eec431a009a",
            "4ce4c29cac714063a06c56b72c5b158c",
            "396a6f6e9bed40b28041e903bd69bbb5",
            "31c522b90f2141fe86486e1c96a3f67a",
            "ea280e9b49c446cdbbc105fe9066f0ef",
            "4fd0d211d1ac40d5ad6802768989b6f6",
            "8cd94f42f1c74775a6c4f77613cb45ce",
            "25e729a1116a46c8bf0c1bdfaa03b55d",
            "4e8795faa3c241ee9dc05a43769287f0",
            "7a695ec9878546768cc3e08dd8da8e96",
            "05b8ca6dda4b40619aa82d68e803e070",
            "e9036589e6444cce8ea75ba8d0304736",
            "450faff66eee4cc0a27c8815c0da4f6d",
            "ad6dc05c77284addb91b16a2ba7ad9b0",
            "41a0a4506bd9440a97149f23bed83698",
            "7119625e591243d69098630beb6dfd1f"
          ]
        },
        "id": "kNdN7G1gDB4H",
        "outputId": "150beaf8-6edb-483b-c4e5-ee00c2bda8b8"
      },
      "outputs": [],
      "source": [
        "#checkbox to select some specific classes of animals\n",
        "class_names = ['badger', 'boar', 'deer', 'fox', 'hare', 'hedgehog', 'horse', 'squirrel', 'woodpigeon']\n",
        "checkboxes = []\n",
        "for item in class_names:\n",
        "    checkbox = widgets.Checkbox(description=item, value=True)\n",
        "    checkboxes.append(checkbox)\n",
        "\n",
        "widgets.VBox(checkboxes)"
      ]
    },
    {
      "cell_type": "code",
      "execution_count": null,
      "metadata": {
        "colab": {
          "base_uri": "https://localhost:8080/"
        },
        "id": "jyYs0LXCM8dZ",
        "outputId": "ee5ce49e-8688-4298-8073-ba205c9c4a22"
      },
      "outputs": [
        {
          "name": "stdout",
          "output_type": "stream",
          "text": [
            "['badger', 'boar', 'deer', 'hare', 'hedgehog', 'horse', 'woodpigeon']\n",
            "Found 5190 images belonging to 7 classes.\n",
            "Found 573 images belonging to 7 classes.\n",
            "Found 1440 images belonging to 7 classes.\n"
          ]
        }
      ],
      "source": [
        "#images generator\n",
        "\n",
        "#step useful for the data augmentation (only for the training and the validation)\n",
        "gen = ImageDataGenerator(\n",
        "     brightness_range = [0.8,1.3],\n",
        "     horizontal_flip=True,\n",
        "     shear_range=0.4,\n",
        "     rotation_range=20,\n",
        "     vertical_flip=False,\n",
        "     validation_split=0.1\n",
        "     )\n",
        "\n",
        "#for the test dataset we use a different image data generator because we don't need data augmentation\n",
        "testgen =  ImageDataGenerator(\n",
        "\n",
        "     )\n",
        "\n",
        "\n",
        "selected_classes = []\n",
        "for i in range(0, len(checkboxes)):\n",
        "    if checkboxes[i].value == True:\n",
        "        selected_classes = selected_classes + [checkboxes[i].description]\n",
        "print(selected_classes)\n",
        "\n",
        "\n",
        "\n",
        "train = gen.flow_from_directory(\n",
        "    classes = selected_classes,\n",
        "    directory=origin,\n",
        "    target_size=(img_height, img_width),\n",
        "    color_mode=\"grayscale\",\n",
        "    batch_size=8,\n",
        "    class_mode=\"sparse\",\n",
        "    subset='training',\n",
        "    shuffle=True\n",
        ")\n",
        "valid = gen.flow_from_directory(\n",
        "    classes = selected_classes,\n",
        "    directory=origin,\n",
        "    target_size=(img_height, img_width),\n",
        "    color_mode=\"grayscale\",\n",
        "    batch_size=2,\n",
        "    class_mode=\"sparse\",\n",
        "    subset='validation',\n",
        "    shuffle=True,\n",
        "    seed=42\n",
        ")\n",
        "\n",
        "test = testgen.flow_from_directory(\n",
        "    classes = selected_classes,\n",
        "    directory=test_directory,\n",
        "    target_size=(img_height, img_width),\n",
        "    color_mode=\"grayscale\",\n",
        "    batch_size=1,\n",
        "    class_mode=\"sparse\",\n",
        "    shuffle=False,\n",
        "    seed=42\n",
        ")"
      ]
    },
    {
      "cell_type": "code",
      "execution_count": null,
      "metadata": {
        "colab": {
          "base_uri": "https://localhost:8080/"
        },
        "id": "rYJqLYcSHdMe",
        "outputId": "3fefba2f-1e21-4257-f0a9-f074bb0ad160"
      },
      "outputs": [
        {
          "name": "stdout",
          "output_type": "stream",
          "text": [
            "Found 335 files belonging to 1 classes.\n"
          ]
        }
      ],
      "source": [
        "#Definition of the dataset for arduino quantization\n",
        "repre = tf.keras.utils.image_dataset_from_directory(\n",
        "    directory = '/content/drive/MyDrive/datadeep/rep_dataset',\n",
        "    color_mode='grayscale',\n",
        "    image_size=(img_height, img_width),\n",
        ")"
      ]
    },
    {
      "cell_type": "code",
      "execution_count": null,
      "metadata": {
        "colab": {
          "base_uri": "https://localhost:8080/",
          "height": 829
        },
        "id": "XGEfKHtdnYNg",
        "outputId": "f59e51ce-28cc-48a9-93f6-3f2ab580193f"
      },
      "outputs": [],
      "source": [
        "#Showing some images in the dataset after data augmentation\n",
        "x,y = train.next()\n",
        "plt.figure(figsize=(10, 10))\n",
        "inv_dict = {v: k for k, v in train.class_indices.items()}\n",
        "for i in range(8):\n",
        " image = x[i]\n",
        " label = inv_dict[np.round(y[i])]\n",
        " ax = plt.subplot(3, 3, i + 1)\n",
        "\n",
        " plt.imshow(image,vmin=0, vmax =255, cmap = 'gray')\n",
        " plt.title(label)\n",
        " plt.axis(\"off\")"
      ]
    },
    {
      "cell_type": "code",
      "execution_count": null,
      "metadata": {
        "colab": {
          "base_uri": "https://localhost:8080/"
        },
        "id": "-Iqhth_uTfzQ",
        "outputId": "20582084-227a-41da-eb0f-411d27bb8bb7"
      },
      "outputs": [],
      "source": [
        "#Since the classes are not balanced, we need to compute the weigth of each class wrt the entire dataset\n",
        "classes_weight = class_weight.compute_class_weight('balanced',classes = np.unique(train.classes),y=train.classes)\n",
        "\n",
        "weights_dict = {i:w for i,w in enumerate(classes_weight)}\n",
        "\n",
        "print(weights_dict)"
      ]
    },
    {
      "cell_type": "markdown",
      "metadata": {
        "id": "4_4cS6sV24Gz"
      },
      "source": [
        "**MODEL**"
      ]
    },
    {
      "cell_type": "code",
      "execution_count": null,
      "metadata": {
        "colab": {
          "base_uri": "https://localhost:8080/"
        },
        "id": "ew_wrrsZeeYT",
        "outputId": "8913f5d8-6772-4124-b3e8-51ae861806ea"
      },
      "outputs": [],
      "source": [
        "#definition of the model\n",
        "model = Sequential([\n",
        "      layers.Conv2D(32, 3, padding='same', activation='relu', input_shape=(img_height, img_width, 1)),\n",
        "      layers.MaxPooling2D(padding ='same'),\n",
        "      layers.Conv2D(32, 3, padding='same', activation='relu'),\n",
        "      layers.MaxPooling2D(padding ='same'),\n",
        "      layers.Conv2D(64, 3, padding='same', activation='relu'),\n",
        "      layers.MaxPooling2D(padding ='same'),\n",
        "      layers.Flatten(),\n",
        "      layers.Dropout(0.4),\n",
        "      layers.Dense(len(class_names))\n",
        "    ])\n",
        "model.summary()"
      ]
    },
    {
      "cell_type": "code",
      "execution_count": null,
      "metadata": {
        "id": "PrAENdTqL6ep"
      },
      "outputs": [],
      "source": [
        "checkpoint_filepath = '/content/drive/MyDrive/checkpoint/'\n",
        "\n",
        "#function for the adaptive learning rate\n",
        "redlr = tf.keras.callbacks.ReduceLROnPlateau(\n",
        "    monitor='val_loss',\n",
        "    factor=0.5,\n",
        "    patience=3, min_lr=0.000005\n",
        "    )\n",
        "early = tf.keras.callbacks.EarlyStopping(monitor='val_Accuracy', mode='max', patience=10)\n",
        "\n",
        "\n",
        "#useful for saving the model\n",
        "checkpoint_callback = tf.keras.callbacks.ModelCheckpoint(\n",
        "    filepath=checkpoint_filepath,\n",
        "    save_weights_only=False,\n",
        "    monitor='val_Accuracy',\n",
        "    mode='max',\n",
        "    save_best_only=True)\n",
        "\n",
        "#optimizer and loss definition\n",
        "opt = keras.optimizers.Adam(learning_rate=0.0005, weight_decay = 0.1)\n",
        "kloss =tf.keras.losses.SparseCategoricalCrossentropy(from_logits='true')\n",
        "model.compile(optimizer=opt, loss=kloss, metrics=['Accuracy'])"
      ]
    },
    {
      "cell_type": "markdown",
      "metadata": {
        "id": "Fv_LXrSe3e0n"
      },
      "source": [
        "**TRAINING AND TEST PHASES**"
      ]
    },
    {
      "cell_type": "code",
      "execution_count": null,
      "metadata": {
        "colab": {
          "base_uri": "https://localhost:8080/"
        },
        "id": "dnb6K4ARfvo9",
        "outputId": "53caa31d-c9f7-4523-dc6f-8efc60b513c6"
      },
      "outputs": [],
      "source": [
        "#training step\n",
        "history = model.fit(train,\n",
        "                    epochs=epochs,\n",
        "                    shuffle =True,\n",
        "                    validation_data=valid,\n",
        "                    class_weight=weights_dict,\n",
        "                    callbacks = [checkpoint_callback, redlr]\n",
        "                    )"
      ]
    },
    {
      "cell_type": "code",
      "execution_count": null,
      "metadata": {
        "colab": {
          "base_uri": "https://localhost:8080/",
          "height": 468
        },
        "id": "tjNgOFi4d4Ga",
        "outputId": "69f7f7a0-cab1-4030-cdce-17deec20062f"
      },
      "outputs": [
        {
          "data": {
            "image/png": "[encoded data removed]",
            "text/plain": [
              "<Figure size 500x500 with 2 Axes>"
            ]
          },
          "metadata": {},
          "output_type": "display_data"
        }
      ],
      "source": [
        "#Plot the graphs for accuracy\n",
        "acc = history.history['Accuracy']\n",
        "val_acc = history.history['val_Accuracy']\n",
        "\n",
        "loss = history.history['loss']\n",
        "val_loss = history.history['val_loss']\n",
        "epochs_range = range(epochs)\n",
        "\n",
        "plt.figure(figsize=(5,5))\n",
        "plt.subplot(1, 2, 1)\n",
        "plt.plot(epochs_range, acc, label='Training Accuracy')\n",
        "plt.plot(epochs_range, val_acc, label='Validation Accuracy')\n",
        "plt.legend(loc='lower right')\n",
        "plt.title('Training and Validation Accuracy')\n",
        "\n",
        "plt.subplot(1, 2, 2)\n",
        "plt.plot(epochs_range, loss, label='Training Loss')\n",
        "plt.plot(epochs_range, val_loss, label='Validation Loss')\n",
        "plt.legend(loc='upper right')\n",
        "plt.title('Training and Validation Loss')\n",
        "plt.show()"
      ]
    },
    {
      "cell_type": "code",
      "execution_count": null,
      "metadata": {
        "colab": {
          "background_save": true
        },
        "id": "MqtAtk8oR4ek"
      },
      "outputs": [],
      "source": [
        "model.save('/content/drive/MyDrive/Altro/cinque.hdf5')"
      ]
    },
    {
      "cell_type": "code",
      "execution_count": null,
      "metadata": {
        "colab": {
          "base_uri": "https://localhost:8080/",
          "height": 335
        },
        "id": "BhFeFkY6Ln5K",
        "outputId": "a45f04b4-9ccc-419a-ac21-66d2ea57bb7c"
      },
      "outputs": [],
      "source": [
        "new_model = tf.keras.models.load_model('/content/drive/MyDrive/gray64_acc80.hdf5')"
      ]
    },
    {
      "cell_type": "markdown",
      "metadata": {
        "id": "EYBZR1fV39C-"
      },
      "source": [
        "**RESULTS**"
      ]
    },
    {
      "cell_type": "code",
      "execution_count": null,
      "metadata": {
        "colab": {
          "base_uri": "https://localhost:8080/"
        },
        "id": "P3w1DLKpaao6",
        "outputId": "18f12d0e-7349-4e7e-b4fb-1457e9c7c4c3"
      },
      "outputs": [],
      "source": [
        "#evaluation of the model on the test dataset\n",
        "results = model.evaluate(test)\n",
        "print(\"test loss, test acc:\", results)"
      ]
    },
    {
      "cell_type": "code",
      "execution_count": null,
      "metadata": {
        "id": "jcWaiVMcejZW"
      },
      "outputs": [],
      "source": [
        "#saving the results on file\n",
        "f = open(\"/content/drive/MyDrive/results/result.txt\", \"a\")\n",
        "res = f\"Size: {img_height} x {img_width}---- Validation Accuracy: {max(history.history['val_Accuracy'])} -----Test Accuracy: {results[1]} ----N.Classes: {len(selected_classes)}\\n\"\n",
        "f.write(res)\n",
        "f.close()"
      ]
    },
    {
      "cell_type": "code",
      "execution_count": null,
      "metadata": {
        "colab": {
          "base_uri": "https://localhost:8080/"
        },
        "id": "dznxyBd9qlUh",
        "outputId": "65f723af-a6e2-48c4-903a-8f1586575412"
      },
      "outputs": [],
      "source": [
        "#predictions of the model over the testset\n",
        "preds = model.predict(test)\n",
        "y_pred = []\n",
        "y_pred.append(np.argmax(preds, axis = - 1))"
      ]
    },
    {
      "cell_type": "code",
      "execution_count": null,
      "metadata": {
        "colab": {
          "base_uri": "https://localhost:8080/",
          "height": 838
        },
        "id": "jAKUA8N6BJvp",
        "outputId": "6b279bfe-76d5-4761-c7f8-2ed71919239e"
      },
      "outputs": [],
      "source": [
        "#confusion matrix computation and plotting metrics\n",
        "cm = confusion_matrix(test.classes, y_pred[0], normalize = 'true')\n",
        "print(classification_report(test.classes, y_pred[0], target_names = selected_classes))\n",
        "\n",
        "cm_display = metrics.ConfusionMatrixDisplay(confusion_matrix = cm,  display_labels = selected_classes)\n",
        "fig, ax = plt.subplots(figsize=(8,8))\n",
        "cm_display.plot(ax=ax)\n",
        "plt.show()"
      ]
    },
    {
      "cell_type": "code",
      "execution_count": null,
      "metadata": {
        "id": "c60tcGr9O1jl"
      },
      "outputs": [],
      "source": [
        "\n",
        "\n",
        "#Rapresentative dataset to balance input for model quantization\n",
        "def repr_data_gen():\n",
        "  for e, _ in repre.take(8):\n",
        "    for i in range(e.shape[0]):\n",
        "      img = e[i, :]\n",
        "      img = np.expand_dims(img,0).astype(np.float32)\n",
        "      yield [img]"
      ]
    },
    {
      "cell_type": "code",
      "execution_count": null,
      "metadata": {
        "id": "ES6dW64iED2f"
      },
      "outputs": [],
      "source": [
        "#function to port the model from a standard TF model to a quantized int8_t model readable by Arduino (file .h)\n",
        "def porta(model, optimize=True, variable_name='model_data', pretty_print=False):\n",
        "    converter = tf.lite.TFLiteConverter.from_keras_model(model)\n",
        "    if optimize:\n",
        "        if isinstance(optimize, bool):\n",
        "            optimizers = [tf.lite.Optimize.DEFAULT]\n",
        "        else:\n",
        "            optimizers = optimize\n",
        "        converter.representative_dataset = repr_data_gen\n",
        "        converter.target_spec.supported_ops = [tf.lite.OpsSet.TFLITE_BUILTINS_INT8]\n",
        "        converter.inference_input_type = tf.int8  # or tf.uint8\n",
        "        converter.inference_output_type = tf.int8  # or tf.uint8\n",
        "        converter.optimizations = optimizers\n",
        "    tflite_model = converter.convert()\n",
        "    tf.lite.experimental.Analyzer.analyze(model_content=tflite_model)\n",
        "    bytes = hexdump.dump(tflite_model).split(' ')\n",
        "    c_array = ', '.join(['0x%02x' % int(byte, 16) for byte in bytes])\n",
        "    c = 'const unsigned char %s[] DATA_ALIGN_ATTRIBUTE = {%s};' % (variable_name, c_array)\n",
        "    if pretty_print:\n",
        "        c = c.replace('{', '{\\n\\t').replace('}', '\\n}')\n",
        "        c = re.sub(r'(0x..?, ){12}', lambda x: '%s\\n\\t' % x.group(0), c)\n",
        "    c += '\\nconst int %s_len = %d;' % (variable_name, len(bytes))\n",
        "    preamble = '''\n",
        "#ifdef __has_attribute\n",
        "#define HAVE_ATTRIBUTE(x) __has_attribute(x)\n",
        "#else\n",
        "#define HAVE_ATTRIBUTE(x) 0\n",
        "#endif\n",
        "#if HAVE_ATTRIBUTE(aligned) || (defined(__GNUC__) && !defined(__clang__))\n",
        "#define DATA_ALIGN_ATTRIBUTE __attribute__((aligned(4)))\n",
        "#else\n",
        "#define DATA_ALIGN_ATTRIBUTE\n",
        "#endif\n",
        "\n",
        "'''\n",
        "    return preamble + c"
      ]
    },
    {
      "cell_type": "code",
      "execution_count": null,
      "metadata": {
        "colab": {
          "base_uri": "https://localhost:8080/"
        },
        "id": "RkDZqo5zkajG",
        "outputId": "2967e4f9-6f5c-4812-bce6-8465432eda0c"
      },
      "outputs": [],
      "source": [
        "#creation of the model .h (Arduino TensorFlow model)\n",
        "cpp_code  = porta(model, variable_name='semibig', pretty_print=True, optimize=True)\n",
        "with open('/content/semibig.h', 'w') as writefile:\n",
        "    writefile.write(cpp_code)\n"
      ]
    },
    {
      "cell_type": "code",
      "execution_count": null,
      "metadata": {
        "colab": {
          "base_uri": "https://localhost:8080/",
          "height": 577
        },
        "id": "RSObru4CSl7U",
        "outputId": "37830c97-0c05-421d-e7cc-0fca8a296bc2"
      },
      "outputs": [],
      "source": [
        "#test the results on new image\n",
        "from matplotlib import pyplot\n",
        "\n",
        "image_path ='/content/fox.jpg'\n",
        "img = tf.keras.utils.load_img(image_path, color_mode = 'grayscale', target_size = (img_height,img_width))\n",
        "img_array = tf.keras.utils.img_to_array(img)\n",
        "plt.imshow(img_array,cmap = 'gray', vmax = 255)\n",
        "img_array = tf.expand_dims(img_array, 0) # Create a batch\n",
        "img_array.shape\n",
        "\n",
        "predictions = model.predict(img_array)\n",
        "print(predictions)\n",
        "print(class_names)\n",
        "score = tf.nn.softmax(predictions[0])\n",
        "print(score*100)\n",
        "print(\n",
        "    \"This image most likely belongs to {} with a {:.2f} percent confidence.\"\n",
        "    .format(class_names[np.argmax(score)], 100 * np.max(score)))"
      ]
    },
    {
      "cell_type": "code",
      "execution_count": null,
      "metadata": {
        "id": "uH5vCchPrOiM"
      },
      "outputs": [],
      "source": [
        "#function useful for the plot of the different step of the convolution\n",
        "def plotFilters(conv_filter):\n",
        "    fig, axes = plt.subplots(1, 3, figsize=(5,5))\n",
        "    axes = axes.flatten()\n",
        "    for img, ax in zip( conv_filter, axes):\n",
        "        ax.imshow(img)\n",
        "        ax.axis('off')\n",
        "    plt.tight_layout()\n",
        "    plt.show()"
      ]
    },
    {
      "cell_type": "code",
      "execution_count": null,
      "metadata": {
        "colab": {
          "base_uri": "https://localhost:8080/",
          "height": 904
        },
        "id": "earHSMdKADKY",
        "outputId": "6f722e86-4ea0-4fcb-e367-5c43ee9e80fd"
      },
      "outputs": [],
      "source": [
        "#Shows the different steps of the model computation for the classification\n",
        "np.seterr(divide='ignore', invalid='ignore')\n",
        "successive_outputs = [layer.output for layer in model.layers[1:]]\n",
        "\n",
        "#visualization_model = Model(img_input, successive_outputs)\n",
        "visualization_model = tf.keras.models.Model(inputs = model.input, outputs = successive_outputs)\n",
        "\n",
        "# Let's prepare a random input image of a cat or dog from the training set.\n",
        "#cat_img_files = [os.path.join(train_cats_dir, f) for f in train_cat_fnames]\n",
        "#dog_img_files = [os.path.join(train_dogs_dir, f) for f in train_dog_fnames]\n",
        "\n",
        "#img_path = random.choice(cat_img_files + dog_img_files)\n",
        "\n",
        "\n",
        "\n",
        "                       # Numpy array with shape (150, 150, 3)\n",
        "x   =img_array                  # Numpy array with shape (1, 150, 150, 3)\n",
        "\n",
        "# Rescale by 1/255\n",
        "x /= 255.0\n",
        "\n",
        "# Let's run our image through our network, thus obtaining all\n",
        "# intermediate representations for this image.\n",
        "successive_feature_maps = visualization_model.predict(x)\n",
        "\n",
        "# These are the names of the layers, so can have them as part of our plot\n",
        "layer_names = [layer.name for layer in model.layers]\n",
        "\n",
        "# -----------------------------------------------------------------------\n",
        "# Now let's display our representations\n",
        "# -----------------------------------------------------------------------\n",
        "for layer_name, feature_map in zip(layer_names, successive_feature_maps):\n",
        "  print(feature_map.shape)\n",
        "  if len(feature_map.shape) == 4:\n",
        "\n",
        "    #-------------------------------------------\n",
        "    # Just do this for the conv / maxpool layers, not the fully-connected layers\n",
        "    #-------------------------------------------\n",
        "    n_features = feature_map.shape[-1]  # number of features in the feature map\n",
        "    size       = feature_map.shape[ 1]  # feature map shape (1, size, size, n_features)\n",
        "\n",
        "    # We will tile our images in this matrix\n",
        "    display_grid = np.zeros((size, size * n_features))\n",
        "\n",
        "    #-------------------------------------------------\n",
        "    # Postprocess the feature to be visually palatable\n",
        "    #-------------------------------------------------\n",
        "    for i in range(n_features):\n",
        "      x  = feature_map[0, :, :, i]\n",
        "      x -= x.mean()\n",
        "      x /= x.std ()\n",
        "      x *=  64\n",
        "      x += 128\n",
        "      x  = np.clip(x, 0, 255).astype('uint8')\n",
        "      display_grid[:, i * size : (i + 1) * size] = x # Tile each filter into a horizontal grid\n",
        "\n",
        "    #-----------------\n",
        "    # Display the grid\n",
        "    #-----------------\n",
        "\n",
        "    scale = 20. / n_features\n",
        "    plt.figure( figsize=(scale * n_features, scale) )\n",
        "    plt.title ( layer_name )\n",
        "    plt.grid  ( False )\n",
        "    plt.imshow( display_grid, aspect='auto', cmap='viridis' )"
      ]
    }
  ],
  "metadata": {
    "accelerator": "GPU",
    "colab": {
      "gpuType": "T4",
      "provenance": []
    },
    "kernelspec": {
      "display_name": "Python 3",
      "name": "python3"
    },
    "language_info": {
      "name": "python"
    },
    "widgets": {
      "application/vnd.jupyter.widget-state+json": {
        "04b0ac5a6db5467c90df2db408422696": {
          "model_module": "@jupyter-widgets/controls",
          "model_module_version": "1.5.0",
          "model_name": "DescriptionStyleModel",
          "state": {
            "_model_module": "@jupyter-widgets/controls",
            "_model_module_version": "1.5.0",
            "_model_name": "DescriptionStyleModel",
            "_view_count": null,
            "_view_module": "@jupyter-widgets/base",
            "_view_module_version": "1.2.0",
            "_view_name": "StyleView",
            "description_width": ""
          }
        },
        "05b8ca6dda4b40619aa82d68e803e070": {
          "model_module": "@jupyter-widgets/base",
          "model_module_version": "1.2.0",
          "model_name": "LayoutModel",
          "state": {
            "_model_module": "@jupyter-widgets/base",
            "_model_module_version": "1.2.0",
            "_model_name": "LayoutModel",
            "_view_count": null,
            "_view_module": "@jupyter-widgets/base",
            "_view_module_version": "1.2.0",
            "_view_name": "LayoutView",
            "align_content": null,
            "align_items": null,
            "align_self": null,
            "border": null,
            "bottom": null,
            "display": null,
            "flex": null,
            "flex_flow": null,
            "grid_area": null,
            "grid_auto_columns": null,
            "grid_auto_flow": null,
            "grid_auto_rows": null,
            "grid_column": null,
            "grid_gap": null,
            "grid_row": null,
            "grid_template_areas": null,
            "grid_template_columns": null,
            "grid_template_rows": null,
            "height": null,
            "justify_content": null,
            "justify_items": null,
            "left": null,
            "margin": null,
            "max_height": null,
            "max_width": null,
            "min_height": null,
            "min_width": null,
            "object_fit": null,
            "object_position": null,
            "order": null,
            "overflow": null,
            "overflow_x": null,
            "overflow_y": null,
            "padding": null,
            "right": null,
            "top": null,
            "visibility": null,
            "width": null
          }
        },
        "182e5ceec63d4e20b6f68de788301d8c": {
          "model_module": "@jupyter-widgets/controls",
          "model_module_version": "1.5.0",
          "model_name": "CheckboxModel",
          "state": {
            "_dom_classes": [],
            "_model_module": "@jupyter-widgets/controls",
            "_model_module_version": "1.5.0",
            "_model_name": "CheckboxModel",
            "_view_count": null,
            "_view_module": "@jupyter-widgets/controls",
            "_view_module_version": "1.5.0",
            "_view_name": "CheckboxView",
            "description": "badger",
            "description_tooltip": null,
            "disabled": false,
            "indent": true,
            "layout": "IPY_MODEL_b290f4aa0c1449db9d92860b114386fd",
            "style": "IPY_MODEL_04b0ac5a6db5467c90df2db408422696",
            "value": true
          }
        },
        "250f57c1d63540e1b8b6cd8714e3df1f": {
          "model_module": "@jupyter-widgets/controls",
          "model_module_version": "1.5.0",
          "model_name": "CheckboxModel",
          "state": {
            "_dom_classes": [],
            "_model_module": "@jupyter-widgets/controls",
            "_model_module_version": "1.5.0",
            "_model_name": "CheckboxModel",
            "_view_count": null,
            "_view_module": "@jupyter-widgets/controls",
            "_view_module_version": "1.5.0",
            "_view_name": "CheckboxView",
            "description": "deer",
            "description_tooltip": null,
            "disabled": false,
            "indent": true,
            "layout": "IPY_MODEL_396a6f6e9bed40b28041e903bd69bbb5",
            "style": "IPY_MODEL_31c522b90f2141fe86486e1c96a3f67a",
            "value": true
          }
        },
        "25e729a1116a46c8bf0c1bdfaa03b55d": {
          "model_module": "@jupyter-widgets/controls",
          "model_module_version": "1.5.0",
          "model_name": "DescriptionStyleModel",
          "state": {
            "_model_module": "@jupyter-widgets/controls",
            "_model_module_version": "1.5.0",
            "_model_name": "DescriptionStyleModel",
            "_view_count": null,
            "_view_module": "@jupyter-widgets/base",
            "_view_module_version": "1.2.0",
            "_view_name": "StyleView",
            "description_width": ""
          }
        },
        "28da967a9a4e43fcbcb859f8690a8d36": {
          "model_module": "@jupyter-widgets/controls",
          "model_module_version": "1.5.0",
          "model_name": "CheckboxModel",
          "state": {
            "_dom_classes": [],
            "_model_module": "@jupyter-widgets/controls",
            "_model_module_version": "1.5.0",
            "_model_name": "CheckboxModel",
            "_view_count": null,
            "_view_module": "@jupyter-widgets/controls",
            "_view_module_version": "1.5.0",
            "_view_name": "CheckboxView",
            "description": "hare",
            "description_tooltip": null,
            "disabled": false,
            "indent": true,
            "layout": "IPY_MODEL_8cd94f42f1c74775a6c4f77613cb45ce",
            "style": "IPY_MODEL_25e729a1116a46c8bf0c1bdfaa03b55d",
            "value": true
          }
        },
        "31c522b90f2141fe86486e1c96a3f67a": {
          "model_module": "@jupyter-widgets/controls",
          "model_module_version": "1.5.0",
          "model_name": "DescriptionStyleModel",
          "state": {
            "_model_module": "@jupyter-widgets/controls",
            "_model_module_version": "1.5.0",
            "_model_name": "DescriptionStyleModel",
            "_view_count": null,
            "_view_module": "@jupyter-widgets/base",
            "_view_module_version": "1.2.0",
            "_view_name": "StyleView",
            "description_width": ""
          }
        },
        "396a6f6e9bed40b28041e903bd69bbb5": {
          "model_module": "@jupyter-widgets/base",
          "model_module_version": "1.2.0",
          "model_name": "LayoutModel",
          "state": {
            "_model_module": "@jupyter-widgets/base",
            "_model_module_version": "1.2.0",
            "_model_name": "LayoutModel",
            "_view_count": null,
            "_view_module": "@jupyter-widgets/base",
            "_view_module_version": "1.2.0",
            "_view_name": "LayoutView",
            "align_content": null,
            "align_items": null,
            "align_self": null,
            "border": null,
            "bottom": null,
            "display": null,
            "flex": null,
            "flex_flow": null,
            "grid_area": null,
            "grid_auto_columns": null,
            "grid_auto_flow": null,
            "grid_auto_rows": null,
            "grid_column": null,
            "grid_gap": null,
            "grid_row": null,
            "grid_template_areas": null,
            "grid_template_columns": null,
            "grid_template_rows": null,
            "height": null,
            "justify_content": null,
            "justify_items": null,
            "left": null,
            "margin": null,
            "max_height": null,
            "max_width": null,
            "min_height": null,
            "min_width": null,
            "object_fit": null,
            "object_position": null,
            "order": null,
            "overflow": null,
            "overflow_x": null,
            "overflow_y": null,
            "padding": null,
            "right": null,
            "top": null,
            "visibility": null,
            "width": null
          }
        },
        "41a0a4506bd9440a97149f23bed83698": {
          "model_module": "@jupyter-widgets/base",
          "model_module_version": "1.2.0",
          "model_name": "LayoutModel",
          "state": {
            "_model_module": "@jupyter-widgets/base",
            "_model_module_version": "1.2.0",
            "_model_name": "LayoutModel",
            "_view_count": null,
            "_view_module": "@jupyter-widgets/base",
            "_view_module_version": "1.2.0",
            "_view_name": "LayoutView",
            "align_content": null,
            "align_items": null,
            "align_self": null,
            "border": null,
            "bottom": null,
            "display": null,
            "flex": null,
            "flex_flow": null,
            "grid_area": null,
            "grid_auto_columns": null,
            "grid_auto_flow": null,
            "grid_auto_rows": null,
            "grid_column": null,
            "grid_gap": null,
            "grid_row": null,
            "grid_template_areas": null,
            "grid_template_columns": null,
            "grid_template_rows": null,
            "height": null,
            "justify_content": null,
            "justify_items": null,
            "left": null,
            "margin": null,
            "max_height": null,
            "max_width": null,
            "min_height": null,
            "min_width": null,
            "object_fit": null,
            "object_position": null,
            "order": null,
            "overflow": null,
            "overflow_x": null,
            "overflow_y": null,
            "padding": null,
            "right": null,
            "top": null,
            "visibility": null,
            "width": null
          }
        },
        "450faff66eee4cc0a27c8815c0da4f6d": {
          "model_module": "@jupyter-widgets/base",
          "model_module_version": "1.2.0",
          "model_name": "LayoutModel",
          "state": {
            "_model_module": "@jupyter-widgets/base",
            "_model_module_version": "1.2.0",
            "_model_name": "LayoutModel",
            "_view_count": null,
            "_view_module": "@jupyter-widgets/base",
            "_view_module_version": "1.2.0",
            "_view_name": "LayoutView",
            "align_content": null,
            "align_items": null,
            "align_self": null,
            "border": null,
            "bottom": null,
            "display": null,
            "flex": null,
            "flex_flow": null,
            "grid_area": null,
            "grid_auto_columns": null,
            "grid_auto_flow": null,
            "grid_auto_rows": null,
            "grid_column": null,
            "grid_gap": null,
            "grid_row": null,
            "grid_template_areas": null,
            "grid_template_columns": null,
            "grid_template_rows": null,
            "height": null,
            "justify_content": null,
            "justify_items": null,
            "left": null,
            "margin": null,
            "max_height": null,
            "max_width": null,
            "min_height": null,
            "min_width": null,
            "object_fit": null,
            "object_position": null,
            "order": null,
            "overflow": null,
            "overflow_x": null,
            "overflow_y": null,
            "padding": null,
            "right": null,
            "top": null,
            "visibility": null,
            "width": null
          }
        },
        "4ce4c29cac714063a06c56b72c5b158c": {
          "model_module": "@jupyter-widgets/controls",
          "model_module_version": "1.5.0",
          "model_name": "DescriptionStyleModel",
          "state": {
            "_model_module": "@jupyter-widgets/controls",
            "_model_module_version": "1.5.0",
            "_model_name": "DescriptionStyleModel",
            "_view_count": null,
            "_view_module": "@jupyter-widgets/base",
            "_view_module_version": "1.2.0",
            "_view_name": "StyleView",
            "description_width": ""
          }
        },
        "4e8795faa3c241ee9dc05a43769287f0": {
          "model_module": "@jupyter-widgets/base",
          "model_module_version": "1.2.0",
          "model_name": "LayoutModel",
          "state": {
            "_model_module": "@jupyter-widgets/base",
            "_model_module_version": "1.2.0",
            "_model_name": "LayoutModel",
            "_view_count": null,
            "_view_module": "@jupyter-widgets/base",
            "_view_module_version": "1.2.0",
            "_view_name": "LayoutView",
            "align_content": null,
            "align_items": null,
            "align_self": null,
            "border": null,
            "bottom": null,
            "display": null,
            "flex": null,
            "flex_flow": null,
            "grid_area": null,
            "grid_auto_columns": null,
            "grid_auto_flow": null,
            "grid_auto_rows": null,
            "grid_column": null,
            "grid_gap": null,
            "grid_row": null,
            "grid_template_areas": null,
            "grid_template_columns": null,
            "grid_template_rows": null,
            "height": null,
            "justify_content": null,
            "justify_items": null,
            "left": null,
            "margin": null,
            "max_height": null,
            "max_width": null,
            "min_height": null,
            "min_width": null,
            "object_fit": null,
            "object_position": null,
            "order": null,
            "overflow": null,
            "overflow_x": null,
            "overflow_y": null,
            "padding": null,
            "right": null,
            "top": null,
            "visibility": null,
            "width": null
          }
        },
        "4fd0d211d1ac40d5ad6802768989b6f6": {
          "model_module": "@jupyter-widgets/controls",
          "model_module_version": "1.5.0",
          "model_name": "DescriptionStyleModel",
          "state": {
            "_model_module": "@jupyter-widgets/controls",
            "_model_module_version": "1.5.0",
            "_model_name": "DescriptionStyleModel",
            "_view_count": null,
            "_view_module": "@jupyter-widgets/base",
            "_view_module_version": "1.2.0",
            "_view_name": "StyleView",
            "description_width": ""
          }
        },
        "590d494b61774eab946c908af46b070b": {
          "model_module": "@jupyter-widgets/controls",
          "model_module_version": "1.5.0",
          "model_name": "CheckboxModel",
          "state": {
            "_dom_classes": [],
            "_model_module": "@jupyter-widgets/controls",
            "_model_module_version": "1.5.0",
            "_model_name": "CheckboxModel",
            "_view_count": null,
            "_view_module": "@jupyter-widgets/controls",
            "_view_module_version": "1.5.0",
            "_view_name": "CheckboxView",
            "description": "fox",
            "description_tooltip": null,
            "disabled": false,
            "indent": true,
            "layout": "IPY_MODEL_ea280e9b49c446cdbbc105fe9066f0ef",
            "style": "IPY_MODEL_4fd0d211d1ac40d5ad6802768989b6f6",
            "value": false
          }
        },
        "7119625e591243d69098630beb6dfd1f": {
          "model_module": "@jupyter-widgets/controls",
          "model_module_version": "1.5.0",
          "model_name": "DescriptionStyleModel",
          "state": {
            "_model_module": "@jupyter-widgets/controls",
            "_model_module_version": "1.5.0",
            "_model_name": "DescriptionStyleModel",
            "_view_count": null,
            "_view_module": "@jupyter-widgets/base",
            "_view_module_version": "1.2.0",
            "_view_name": "StyleView",
            "description_width": ""
          }
        },
        "7a695ec9878546768cc3e08dd8da8e96": {
          "model_module": "@jupyter-widgets/controls",
          "model_module_version": "1.5.0",
          "model_name": "DescriptionStyleModel",
          "state": {
            "_model_module": "@jupyter-widgets/controls",
            "_model_module_version": "1.5.0",
            "_model_name": "DescriptionStyleModel",
            "_view_count": null,
            "_view_module": "@jupyter-widgets/base",
            "_view_module_version": "1.2.0",
            "_view_name": "StyleView",
            "description_width": ""
          }
        },
        "8cd94f42f1c74775a6c4f77613cb45ce": {
          "model_module": "@jupyter-widgets/base",
          "model_module_version": "1.2.0",
          "model_name": "LayoutModel",
          "state": {
            "_model_module": "@jupyter-widgets/base",
            "_model_module_version": "1.2.0",
            "_model_name": "LayoutModel",
            "_view_count": null,
            "_view_module": "@jupyter-widgets/base",
            "_view_module_version": "1.2.0",
            "_view_name": "LayoutView",
            "align_content": null,
            "align_items": null,
            "align_self": null,
            "border": null,
            "bottom": null,
            "display": null,
            "flex": null,
            "flex_flow": null,
            "grid_area": null,
            "grid_auto_columns": null,
            "grid_auto_flow": null,
            "grid_auto_rows": null,
            "grid_column": null,
            "grid_gap": null,
            "grid_row": null,
            "grid_template_areas": null,
            "grid_template_columns": null,
            "grid_template_rows": null,
            "height": null,
            "justify_content": null,
            "justify_items": null,
            "left": null,
            "margin": null,
            "max_height": null,
            "max_width": null,
            "min_height": null,
            "min_width": null,
            "object_fit": null,
            "object_position": null,
            "order": null,
            "overflow": null,
            "overflow_x": null,
            "overflow_y": null,
            "padding": null,
            "right": null,
            "top": null,
            "visibility": null,
            "width": null
          }
        },
        "a33efee052d540f587a138cac2dde75d": {
          "model_module": "@jupyter-widgets/controls",
          "model_module_version": "1.5.0",
          "model_name": "VBoxModel",
          "state": {
            "_dom_classes": [],
            "_model_module": "@jupyter-widgets/controls",
            "_model_module_version": "1.5.0",
            "_model_name": "VBoxModel",
            "_view_count": null,
            "_view_module": "@jupyter-widgets/controls",
            "_view_module_version": "1.5.0",
            "_view_name": "VBoxView",
            "box_style": "",
            "children": [
              "IPY_MODEL_182e5ceec63d4e20b6f68de788301d8c",
              "IPY_MODEL_f4980a101f674b68b7c8cfca03f8f88b",
              "IPY_MODEL_250f57c1d63540e1b8b6cd8714e3df1f",
              "IPY_MODEL_590d494b61774eab946c908af46b070b",
              "IPY_MODEL_28da967a9a4e43fcbcb859f8690a8d36",
              "IPY_MODEL_e491e1940b4c41c182423c629c374280",
              "IPY_MODEL_b4405393de46424b807f36aa4472b81e",
              "IPY_MODEL_aad586f98b524c6da484570ed3d4d455",
              "IPY_MODEL_b2099ef1a34049e994951f404712db87"
            ],
            "layout": "IPY_MODEL_f1ca1ebe62d941788bd719f3788470b8"
          }
        },
        "aad586f98b524c6da484570ed3d4d455": {
          "model_module": "@jupyter-widgets/controls",
          "model_module_version": "1.5.0",
          "model_name": "CheckboxModel",
          "state": {
            "_dom_classes": [],
            "_model_module": "@jupyter-widgets/controls",
            "_model_module_version": "1.5.0",
            "_model_name": "CheckboxModel",
            "_view_count": null,
            "_view_module": "@jupyter-widgets/controls",
            "_view_module_version": "1.5.0",
            "_view_name": "CheckboxView",
            "description": "squirrel",
            "description_tooltip": null,
            "disabled": false,
            "indent": true,
            "layout": "IPY_MODEL_450faff66eee4cc0a27c8815c0da4f6d",
            "style": "IPY_MODEL_ad6dc05c77284addb91b16a2ba7ad9b0",
            "value": false
          }
        },
        "ad6dc05c77284addb91b16a2ba7ad9b0": {
          "model_module": "@jupyter-widgets/controls",
          "model_module_version": "1.5.0",
          "model_name": "DescriptionStyleModel",
          "state": {
            "_model_module": "@jupyter-widgets/controls",
            "_model_module_version": "1.5.0",
            "_model_name": "DescriptionStyleModel",
            "_view_count": null,
            "_view_module": "@jupyter-widgets/base",
            "_view_module_version": "1.2.0",
            "_view_name": "StyleView",
            "description_width": ""
          }
        },
        "b2099ef1a34049e994951f404712db87": {
          "model_module": "@jupyter-widgets/controls",
          "model_module_version": "1.5.0",
          "model_name": "CheckboxModel",
          "state": {
            "_dom_classes": [],
            "_model_module": "@jupyter-widgets/controls",
            "_model_module_version": "1.5.0",
            "_model_name": "CheckboxModel",
            "_view_count": null,
            "_view_module": "@jupyter-widgets/controls",
            "_view_module_version": "1.5.0",
            "_view_name": "CheckboxView",
            "description": "woodpigeon",
            "description_tooltip": null,
            "disabled": false,
            "indent": true,
            "layout": "IPY_MODEL_41a0a4506bd9440a97149f23bed83698",
            "style": "IPY_MODEL_7119625e591243d69098630beb6dfd1f",
            "value": true
          }
        },
        "b290f4aa0c1449db9d92860b114386fd": {
          "model_module": "@jupyter-widgets/base",
          "model_module_version": "1.2.0",
          "model_name": "LayoutModel",
          "state": {
            "_model_module": "@jupyter-widgets/base",
            "_model_module_version": "1.2.0",
            "_model_name": "LayoutModel",
            "_view_count": null,
            "_view_module": "@jupyter-widgets/base",
            "_view_module_version": "1.2.0",
            "_view_name": "LayoutView",
            "align_content": null,
            "align_items": null,
            "align_self": null,
            "border": null,
            "bottom": null,
            "display": null,
            "flex": null,
            "flex_flow": null,
            "grid_area": null,
            "grid_auto_columns": null,
            "grid_auto_flow": null,
            "grid_auto_rows": null,
            "grid_column": null,
            "grid_gap": null,
            "grid_row": null,
            "grid_template_areas": null,
            "grid_template_columns": null,
            "grid_template_rows": null,
            "height": null,
            "justify_content": null,
            "justify_items": null,
            "left": null,
            "margin": null,
            "max_height": null,
            "max_width": null,
            "min_height": null,
            "min_width": null,
            "object_fit": null,
            "object_position": null,
            "order": null,
            "overflow": null,
            "overflow_x": null,
            "overflow_y": null,
            "padding": null,
            "right": null,
            "top": null,
            "visibility": null,
            "width": null
          }
        },
        "b4405393de46424b807f36aa4472b81e": {
          "model_module": "@jupyter-widgets/controls",
          "model_module_version": "1.5.0",
          "model_name": "CheckboxModel",
          "state": {
            "_dom_classes": [],
            "_model_module": "@jupyter-widgets/controls",
            "_model_module_version": "1.5.0",
            "_model_name": "CheckboxModel",
            "_view_count": null,
            "_view_module": "@jupyter-widgets/controls",
            "_view_module_version": "1.5.0",
            "_view_name": "CheckboxView",
            "description": "horse",
            "description_tooltip": null,
            "disabled": false,
            "indent": true,
            "layout": "IPY_MODEL_05b8ca6dda4b40619aa82d68e803e070",
            "style": "IPY_MODEL_e9036589e6444cce8ea75ba8d0304736",
            "value": true
          }
        },
        "e491e1940b4c41c182423c629c374280": {
          "model_module": "@jupyter-widgets/controls",
          "model_module_version": "1.5.0",
          "model_name": "CheckboxModel",
          "state": {
            "_dom_classes": [],
            "_model_module": "@jupyter-widgets/controls",
            "_model_module_version": "1.5.0",
            "_model_name": "CheckboxModel",
            "_view_count": null,
            "_view_module": "@jupyter-widgets/controls",
            "_view_module_version": "1.5.0",
            "_view_name": "CheckboxView",
            "description": "hedgehog",
            "description_tooltip": null,
            "disabled": false,
            "indent": true,
            "layout": "IPY_MODEL_4e8795faa3c241ee9dc05a43769287f0",
            "style": "IPY_MODEL_7a695ec9878546768cc3e08dd8da8e96",
            "value": true
          }
        },
        "e9036589e6444cce8ea75ba8d0304736": {
          "model_module": "@jupyter-widgets/controls",
          "model_module_version": "1.5.0",
          "model_name": "DescriptionStyleModel",
          "state": {
            "_model_module": "@jupyter-widgets/controls",
            "_model_module_version": "1.5.0",
            "_model_name": "DescriptionStyleModel",
            "_view_count": null,
            "_view_module": "@jupyter-widgets/base",
            "_view_module_version": "1.2.0",
            "_view_name": "StyleView",
            "description_width": ""
          }
        },
        "ea280e9b49c446cdbbc105fe9066f0ef": {
          "model_module": "@jupyter-widgets/base",
          "model_module_version": "1.2.0",
          "model_name": "LayoutModel",
          "state": {
            "_model_module": "@jupyter-widgets/base",
            "_model_module_version": "1.2.0",
            "_model_name": "LayoutModel",
            "_view_count": null,
            "_view_module": "@jupyter-widgets/base",
            "_view_module_version": "1.2.0",
            "_view_name": "LayoutView",
            "align_content": null,
            "align_items": null,
            "align_self": null,
            "border": null,
            "bottom": null,
            "display": null,
            "flex": null,
            "flex_flow": null,
            "grid_area": null,
            "grid_auto_columns": null,
            "grid_auto_flow": null,
            "grid_auto_rows": null,
            "grid_column": null,
            "grid_gap": null,
            "grid_row": null,
            "grid_template_areas": null,
            "grid_template_columns": null,
            "grid_template_rows": null,
            "height": null,
            "justify_content": null,
            "justify_items": null,
            "left": null,
            "margin": null,
            "max_height": null,
            "max_width": null,
            "min_height": null,
            "min_width": null,
            "object_fit": null,
            "object_position": null,
            "order": null,
            "overflow": null,
            "overflow_x": null,
            "overflow_y": null,
            "padding": null,
            "right": null,
            "top": null,
            "visibility": null,
            "width": null
          }
        },
        "f1ca1ebe62d941788bd719f3788470b8": {
          "model_module": "@jupyter-widgets/base",
          "model_module_version": "1.2.0",
          "model_name": "LayoutModel",
          "state": {
            "_model_module": "@jupyter-widgets/base",
            "_model_module_version": "1.2.0",
            "_model_name": "LayoutModel",
            "_view_count": null,
            "_view_module": "@jupyter-widgets/base",
            "_view_module_version": "1.2.0",
            "_view_name": "LayoutView",
            "align_content": null,
            "align_items": null,
            "align_self": null,
            "border": null,
            "bottom": null,
            "display": null,
            "flex": null,
            "flex_flow": null,
            "grid_area": null,
            "grid_auto_columns": null,
            "grid_auto_flow": null,
            "grid_auto_rows": null,
            "grid_column": null,
            "grid_gap": null,
            "grid_row": null,
            "grid_template_areas": null,
            "grid_template_columns": null,
            "grid_template_rows": null,
            "height": null,
            "justify_content": null,
            "justify_items": null,
            "left": null,
            "margin": null,
            "max_height": null,
            "max_width": null,
            "min_height": null,
            "min_width": null,
            "object_fit": null,
            "object_position": null,
            "order": null,
            "overflow": null,
            "overflow_x": null,
            "overflow_y": null,
            "padding": null,
            "right": null,
            "top": null,
            "visibility": null,
            "width": null
          }
        },
        "f4980a101f674b68b7c8cfca03f8f88b": {
          "model_module": "@jupyter-widgets/controls",
          "model_module_version": "1.5.0",
          "model_name": "CheckboxModel",
          "state": {
            "_dom_classes": [],
            "_model_module": "@jupyter-widgets/controls",
            "_model_module_version": "1.5.0",
            "_model_name": "CheckboxModel",
            "_view_count": null,
            "_view_module": "@jupyter-widgets/controls",
            "_view_module_version": "1.5.0",
            "_view_name": "CheckboxView",
            "description": "boar",
            "description_tooltip": null,
            "disabled": false,
            "indent": true,
            "layout": "IPY_MODEL_fb0826c063f94b0396e60eec431a009a",
            "style": "IPY_MODEL_4ce4c29cac714063a06c56b72c5b158c",
            "value": true
          }
        },
        "fb0826c063f94b0396e60eec431a009a": {
          "model_module": "@jupyter-widgets/base",
          "model_module_version": "1.2.0",
          "model_name": "LayoutModel",
          "state": {
            "_model_module": "@jupyter-widgets/base",
            "_model_module_version": "1.2.0",
            "_model_name": "LayoutModel",
            "_view_count": null,
            "_view_module": "@jupyter-widgets/base",
            "_view_module_version": "1.2.0",
            "_view_name": "LayoutView",
            "align_content": null,
            "align_items": null,
            "align_self": null,
            "border": null,
            "bottom": null,
            "display": null,
            "flex": null,
            "flex_flow": null,
            "grid_area": null,
            "grid_auto_columns": null,
            "grid_auto_flow": null,
            "grid_auto_rows": null,
            "grid_column": null,
            "grid_gap": null,
            "grid_row": null,
            "grid_template_areas": null,
            "grid_template_columns": null,
            "grid_template_rows": null,
            "height": null,
            "justify_content": null,
            "justify_items": null,
            "left": null,
            "margin": null,
            "max_height": null,
            "max_width": null,
            "min_height": null,
            "min_width": null,
            "object_fit": null,
            "object_position": null,
            "order": null,
            "overflow": null,
            "overflow_x": null,
            "overflow_y": null,
            "padding": null,
            "right": null,
            "top": null,
            "visibility": null,
            "width": null
          }
        }
      }
    }
  },
  "nbformat": 4,
  "nbformat_minor": 0
}
